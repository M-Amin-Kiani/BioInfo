{
  "nbformat": 4,
  "nbformat_minor": 0,
  "metadata": {
    "colab": {
      "provenance": []
    },
    "kernelspec": {
      "name": "python3",
      "display_name": "Python 3"
    },
    "language_info": {
      "name": "python"
    }
  },
  "cells": [
    {
      "cell_type": "code",
      "source": [
        "!pip install Bio"
      ],
      "metadata": {
        "colab": {
          "base_uri": "https://localhost:8080/"
        },
        "id": "-ql7LjdU7jI6",
        "outputId": "b22cfcf3-cb2f-4e33-c9c9-f8ae7ac8c902"
      },
      "execution_count": 3,
      "outputs": [
        {
          "output_type": "stream",
          "name": "stdout",
          "text": [
            "Collecting Bio\n",
            "  Downloading bio-1.7.1-py3-none-any.whl.metadata (5.7 kB)\n",
            "Collecting biopython>=1.80 (from Bio)\n",
            "  Downloading biopython-1.84-cp310-cp310-manylinux_2_17_x86_64.manylinux2014_x86_64.whl.metadata (12 kB)\n",
            "Collecting gprofiler-official (from Bio)\n",
            "  Downloading gprofiler_official-1.0.0-py3-none-any.whl.metadata (11 kB)\n",
            "Collecting mygene (from Bio)\n",
            "  Downloading mygene-3.2.2-py2.py3-none-any.whl.metadata (10 kB)\n",
            "Requirement already satisfied: pandas in /usr/local/lib/python3.10/dist-packages (from Bio) (2.2.2)\n",
            "Requirement already satisfied: pooch in /usr/local/lib/python3.10/dist-packages (from Bio) (1.8.2)\n",
            "Requirement already satisfied: requests in /usr/local/lib/python3.10/dist-packages (from Bio) (2.32.3)\n",
            "Requirement already satisfied: tqdm in /usr/local/lib/python3.10/dist-packages (from Bio) (4.67.1)\n",
            "Requirement already satisfied: numpy in /usr/local/lib/python3.10/dist-packages (from biopython>=1.80->Bio) (1.26.4)\n",
            "Collecting biothings-client>=0.2.6 (from mygene->Bio)\n",
            "  Downloading biothings_client-0.3.1-py2.py3-none-any.whl.metadata (9.8 kB)\n",
            "Requirement already satisfied: python-dateutil>=2.8.2 in /usr/local/lib/python3.10/dist-packages (from pandas->Bio) (2.8.2)\n",
            "Requirement already satisfied: pytz>=2020.1 in /usr/local/lib/python3.10/dist-packages (from pandas->Bio) (2024.2)\n",
            "Requirement already satisfied: tzdata>=2022.7 in /usr/local/lib/python3.10/dist-packages (from pandas->Bio) (2024.2)\n",
            "Requirement already satisfied: platformdirs>=2.5.0 in /usr/local/lib/python3.10/dist-packages (from pooch->Bio) (4.3.6)\n",
            "Requirement already satisfied: packaging>=20.0 in /usr/local/lib/python3.10/dist-packages (from pooch->Bio) (24.2)\n",
            "Requirement already satisfied: charset-normalizer<4,>=2 in /usr/local/lib/python3.10/dist-packages (from requests->Bio) (3.4.0)\n",
            "Requirement already satisfied: idna<4,>=2.5 in /usr/local/lib/python3.10/dist-packages (from requests->Bio) (3.10)\n",
            "Requirement already satisfied: urllib3<3,>=1.21.1 in /usr/local/lib/python3.10/dist-packages (from requests->Bio) (2.2.3)\n",
            "Requirement already satisfied: certifi>=2017.4.17 in /usr/local/lib/python3.10/dist-packages (from requests->Bio) (2024.12.14)\n",
            "Requirement already satisfied: six>=1.5 in /usr/local/lib/python3.10/dist-packages (from python-dateutil>=2.8.2->pandas->Bio) (1.17.0)\n",
            "Downloading bio-1.7.1-py3-none-any.whl (280 kB)\n",
            "\u001b[2K   \u001b[90m━━━━━━━━━━━━━━━━━━━━━━━━━━━━━━━━━━━━━━━━\u001b[0m \u001b[32m281.0/281.0 kB\u001b[0m \u001b[31m4.9 MB/s\u001b[0m eta \u001b[36m0:00:00\u001b[0m\n",
            "\u001b[?25hDownloading biopython-1.84-cp310-cp310-manylinux_2_17_x86_64.manylinux2014_x86_64.whl (3.2 MB)\n",
            "\u001b[2K   \u001b[90m━━━━━━━━━━━━━━━━━━━━━━━━━━━━━━━━━━━━━━━━\u001b[0m \u001b[32m3.2/3.2 MB\u001b[0m \u001b[31m47.7 MB/s\u001b[0m eta \u001b[36m0:00:00\u001b[0m\n",
            "\u001b[?25hDownloading gprofiler_official-1.0.0-py3-none-any.whl (9.3 kB)\n",
            "Downloading mygene-3.2.2-py2.py3-none-any.whl (5.4 kB)\n",
            "Downloading biothings_client-0.3.1-py2.py3-none-any.whl (29 kB)\n",
            "Installing collected packages: biopython, gprofiler-official, biothings-client, mygene, Bio\n",
            "Successfully installed Bio-1.7.1 biopython-1.84 biothings-client-0.3.1 gprofiler-official-1.0.0 mygene-3.2.2\n"
          ]
        }
      ]
    },
    {
      "cell_type": "code",
      "execution_count": 4,
      "metadata": {
        "colab": {
          "base_uri": "https://localhost:8080/"
        },
        "id": "VFQQ-NH47Hal",
        "outputId": "d80dc0f3-0a64-4754-f19a-8776aa5cba3d"
      },
      "outputs": [
        {
          "output_type": "stream",
          "name": "stdout",
          "text": [
            "جدول نوکلئوتیدهای ساده:\n",
            "  Nucleotide  Count  Percentage\n",
            "0          G   2245   13.088090\n",
            "1          T   5047   29.423424\n",
            "2          C   4182   24.380575\n",
            "3          A   5679   33.107911\n",
            "\n",
            "جدول دی‌نوکلئوتیدها:\n",
            "   Di-nucleotide  Count  Percentage\n",
            "0             GT    589    3.434002\n",
            "1             TT   1479    8.622901\n",
            "2             TC   1133    6.605644\n",
            "3             CA   1397    8.144823\n",
            "4             AT   1691    9.858909\n",
            "5             TG    593    3.457323\n",
            "6             TA   1842   10.739272\n",
            "7             AG    841    4.903218\n",
            "8             GC    562    3.276586\n",
            "9             CT   1288    7.509328\n",
            "10            AA   1768   10.307836\n",
            "11            AC   1379    8.039879\n",
            "12            GA    672    3.917910\n",
            "13            CC   1108    6.459888\n",
            "14            GG    422    2.460354\n",
            "15            CG    388    2.262127\n",
            "\n",
            "جدول تری‌نوکلئوتیدها:\n",
            "   Tri-nucleotide  Count  Percentage\n",
            "0             GTT    161    0.938721\n",
            "1             TTC    369    2.151478\n",
            "2             TCA    369    2.151478\n",
            "3             CAT    411    2.396362\n",
            "4             ATG    214    1.247741\n",
            "..            ...    ...         ...\n",
            "59            CGG     58    0.338173\n",
            "60            GGG     84    0.489767\n",
            "61            CGA    117    0.682176\n",
            "62            GCG     30    0.174917\n",
            "63            GGC     99    0.577226\n",
            "\n",
            "[64 rows x 3 columns]\n",
            "\n",
            "درصد GC: 37.47%\n"
          ]
        }
      ],
      "source": [
        "from Bio import SeqIO\n",
        "from collections import Counter\n",
        "import pandas as pd\n",
        "\n",
        "\n",
        "def analyze_dna(file_path):\n",
        "    # بارگذاری دنباله از فایل GenBank\n",
        "    record = SeqIO.read(file_path, \"genbank\")\n",
        "    dna_sequence = str(record.seq).upper()\n",
        "\n",
        "    if len(dna_sequence) < 2000:\n",
        "        raise ValueError(\"طول دنباله DNA باید حداقل 2000 نوکلئوتید باشد.\")\n",
        "\n",
        "    # شمارش نوکلئوتیدهای ساده\n",
        "    simple_counts = Counter(dna_sequence)\n",
        "    simple_percentages = {nuc: count / len(dna_sequence) * 100 for nuc, count in simple_counts.items()}\n",
        "\n",
        "    # شمارش دی‌نوکلئوتیدها\n",
        "    di_nucleotides = [dna_sequence[i:i+2] for i in range(len(dna_sequence) - 1)]\n",
        "    di_counts = Counter(di_nucleotides)\n",
        "    di_percentages = {dinuc: count / len(di_nucleotides) * 100 for dinuc, count in di_counts.items()}\n",
        "\n",
        "    # شمارش تری‌نوکلئوتیدها\n",
        "    tri_nucleotides = [dna_sequence[i:i+3] for i in range(len(dna_sequence) - 2)]\n",
        "    tri_counts = Counter(tri_nucleotides)\n",
        "    tri_percentages = {trinuc: count / len(tri_nucleotides) * 100 for trinuc, count in tri_counts.items()}\n",
        "\n",
        "    # ساخت جداول\n",
        "    simple_table = pd.DataFrame({\n",
        "        \"Nucleotide\": list(simple_counts.keys()),\n",
        "        \"Count\": list(simple_counts.values()),\n",
        "        \"Percentage\": list(simple_percentages.values())\n",
        "    })\n",
        "\n",
        "    di_table = pd.DataFrame({\n",
        "        \"Di-nucleotide\": list(di_counts.keys()),\n",
        "        \"Count\": list(di_counts.values()),\n",
        "        \"Percentage\": list(di_percentages.values())\n",
        "    })\n",
        "\n",
        "    tri_table = pd.DataFrame({\n",
        "        \"Tri-nucleotide\": list(tri_counts.keys()),\n",
        "        \"Count\": list(tri_counts.values()),\n",
        "        \"Percentage\": list(tri_percentages.values())\n",
        "    })\n",
        "\n",
        "    # محاسبه درصد GC\n",
        "    gc_content = (simple_counts.get('G', 0) + simple_counts.get('C', 0)) / len(dna_sequence) * 100\n",
        "\n",
        "    return simple_table, di_table, tri_table, gc_content\n",
        "\n",
        "# استفاده از تابع\n",
        "file_path = \"sequence.gb\"\n",
        "simple_table, di_table, tri_table, gc_content = analyze_dna(file_path)\n",
        "\n",
        "# نمایش نتایج\n",
        "print(\"جدول نوکلئوتیدهای ساده:\")\n",
        "print(simple_table)\n",
        "\n",
        "print(\"\\nجدول دی‌نوکلئوتیدها:\")\n",
        "print(di_table)\n",
        "\n",
        "print(\"\\nجدول تری‌نوکلئوتیدها:\")\n",
        "print(tri_table)\n",
        "\n",
        "print(f\"\\nدرصد GC: {gc_content:.2f}%\")\n"
      ]
    }
  ]
}